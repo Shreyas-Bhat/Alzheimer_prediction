{
  "nbformat": 4,
  "nbformat_minor": 0,
  "metadata": {
    "colab": {
      "name": "Alzheimer.ipynb",
      "provenance": []
    },
    "kernelspec": {
      "name": "python3",
      "display_name": "Python 3"
    },
    "language_info": {
      "name": "python"
    }
  },
  "cells": [
    {
      "cell_type": "code",
      "metadata": {
        "id": "34dA7KC2TYOX"
      },
      "source": [
        "#importing libararies \n",
        "import pandas as pd\n",
        "import keras\n",
        "import pickle\n",
        "import numpy as np\n",
        "from keras.models import Sequential\n",
        "from keras.layers import Embedding\n",
        "from keras.layers import Conv1D, LSTM, Bidirectional\n",
        "from keras.layers import MaxPooling1D\n",
        "from keras.layers import Flatten\n",
        "from keras.layers import Dense \n",
        "from keras.layers import Dropout\n",
        "from keras.callbacks import ModelCheckpoint\n",
        "from keras.wrappers.scikit_learn import KerasClassifier\n",
        "\n",
        "from sklearn.metrics import precision_score, recall_score, f1_score, confusion_matrix\n",
        "import matplotlib.pyplot as plt"
      ],
      "execution_count": null,
      "outputs": []
    },
    {
      "cell_type": "code",
      "metadata": {
        "id": "OA0ZvkLIV0cG"
      },
      "source": [
        "filename='/content/drive/MyDrive/Alz/preprocessed_data.pkl'"
      ],
      "execution_count": null,
      "outputs": []
    },
    {
      "cell_type": "code",
      "metadata": {
        "id": "X3QIL26jV_qH"
      },
      "source": [
        "#opening pickle file\n",
        "data=pickle.load(open(filename,'rb'))"
      ],
      "execution_count": null,
      "outputs": []
    },
    {
      "cell_type": "code",
      "metadata": {
        "colab": {
          "base_uri": "https://localhost:8080/"
        },
        "id": "lOZ_G73sWCHC",
        "outputId": "fa5389cb-769b-42d5-be58-b9517cfde4f7"
      },
      "source": [
        "len(data)"
      ],
      "execution_count": null,
      "outputs": [
        {
          "output_type": "execute_result",
          "data": {
            "text/plain": [
              "3243"
            ]
          },
          "metadata": {
            "tags": []
          },
          "execution_count": 4
        }
      ]
    },
    {
      "cell_type": "code",
      "metadata": {
        "colab": {
          "base_uri": "https://localhost:8080/"
        },
        "id": "W7OrIr10WFIF",
        "outputId": "38a92853-4c2e-43df-d714-cf12ab71852e"
      },
      "source": [
        "Y= data.iloc[:,1].values\n",
        "Y"
      ],
      "execution_count": null,
      "outputs": [
        {
          "output_type": "execute_result",
          "data": {
            "text/plain": [
              "array([1, 1, 1, ..., 0, 0, 0])"
            ]
          },
          "metadata": {
            "tags": []
          },
          "execution_count": 7
        }
      ]
    },
    {
      "cell_type": "code",
      "metadata": {
        "colab": {
          "base_uri": "https://localhost:8080/"
        },
        "id": "rjwvFs126B7J",
        "outputId": "6e1ae5c2-b780-420a-8d1a-cb900a125f13"
      },
      "source": [
        "Y[794]"
      ],
      "execution_count": null,
      "outputs": [
        {
          "output_type": "execute_result",
          "data": {
            "text/plain": [
              "0"
            ]
          },
          "metadata": {
            "tags": []
          },
          "execution_count": 8
        }
      ]
    },
    {
      "cell_type": "code",
      "metadata": {
        "id": "vntgfnnjWKGG"
      },
      "source": [
        "\n",
        "X = data['Transcript'].tolist()"
      ],
      "execution_count": null,
      "outputs": []
    },
    {
      "cell_type": "code",
      "metadata": {
        "colab": {
          "base_uri": "https://localhost:8080/",
          "height": 357
        },
        "id": "xad4aR1pWMY_",
        "outputId": "ae84c2b6-9db6-4113-c819-9c505a186ff1"
      },
      "source": [
        "data.head(10)"
      ],
      "execution_count": null,
      "outputs": [
        {
          "output_type": "execute_result",
          "data": {
            "text/html": [
              "<div>\n",
              "<style scoped>\n",
              "    .dataframe tbody tr th:only-of-type {\n",
              "        vertical-align: middle;\n",
              "    }\n",
              "\n",
              "    .dataframe tbody tr th {\n",
              "        vertical-align: top;\n",
              "    }\n",
              "\n",
              "    .dataframe thead th {\n",
              "        text-align: right;\n",
              "    }\n",
              "</style>\n",
              "<table border=\"1\" class=\"dataframe\">\n",
              "  <thead>\n",
              "    <tr style=\"text-align: right;\">\n",
              "      <th></th>\n",
              "      <th>Transcript</th>\n",
              "      <th>AD</th>\n",
              "    </tr>\n",
              "  </thead>\n",
              "  <tbody>\n",
              "    <tr>\n",
              "      <th>0</th>\n",
              "      <td>um young boy getting cookie jar</td>\n",
              "      <td>1</td>\n",
              "    </tr>\n",
              "    <tr>\n",
              "      <th>1</th>\n",
              "      <td>and it uh bad shape uh thing</td>\n",
              "      <td>1</td>\n",
              "    </tr>\n",
              "    <tr>\n",
              "      <th>2</th>\n",
              "      <td>and picture mother washing dish and see it</td>\n",
              "      <td>1</td>\n",
              "    </tr>\n",
              "    <tr>\n",
              "      <th>3</th>\n",
              "      <td>and dish might get falled</td>\n",
              "      <td>1</td>\n",
              "    </tr>\n",
              "    <tr>\n",
              "      <th>4</th>\n",
              "      <td>fell fall get it</td>\n",
              "      <td>1</td>\n",
              "    </tr>\n",
              "    <tr>\n",
              "      <th>5</th>\n",
              "      <td>and it it picture kitchen window</td>\n",
              "      <td>1</td>\n",
              "    </tr>\n",
              "    <tr>\n",
              "      <th>6</th>\n",
              "      <td>and curtain uh distinct</td>\n",
              "      <td>1</td>\n",
              "    </tr>\n",
              "    <tr>\n",
              "      <th>7</th>\n",
              "      <td>water flow still flowing</td>\n",
              "      <td>1</td>\n",
              "    </tr>\n",
              "    <tr>\n",
              "      <th>8</th>\n",
              "      <td>young boy uh going cookie jar</td>\n",
              "      <td>1</td>\n",
              "    </tr>\n",
              "    <tr>\n",
              "      <th>9</th>\n",
              "      <td>and lit girl young girl</td>\n",
              "      <td>1</td>\n",
              "    </tr>\n",
              "  </tbody>\n",
              "</table>\n",
              "</div>"
            ],
            "text/plain": [
              "                                   Transcript  AD\n",
              "0             um young boy getting cookie jar   1\n",
              "1                and it uh bad shape uh thing   1\n",
              "2  and picture mother washing dish and see it   1\n",
              "3                   and dish might get falled   1\n",
              "4                            fell fall get it   1\n",
              "5            and it it picture kitchen window   1\n",
              "6                     and curtain uh distinct   1\n",
              "7                    water flow still flowing   1\n",
              "8               young boy uh going cookie jar   1\n",
              "9                     and lit girl young girl   1"
            ]
          },
          "metadata": {
            "tags": []
          },
          "execution_count": 6
        }
      ]
    },
    {
      "cell_type": "code",
      "metadata": {
        "id": "nCDAqPeIXLFy"
      },
      "source": [
        "X = data['Transcript'].tolist()"
      ],
      "execution_count": null,
      "outputs": []
    },
    {
      "cell_type": "code",
      "metadata": {
        "id": "4Ifdl8yO8Yik"
      },
      "source": [
        "from sklearn.model_selection import train_test_split"
      ],
      "execution_count": null,
      "outputs": []
    },
    {
      "cell_type": "code",
      "metadata": {
        "id": "yb8dvPoZ8aLM"
      },
      "source": [
        "\n",
        "X_train, X_test, Y_train, Y_test = train_test_split(X,Y, test_size = 0.2) "
      ],
      "execution_count": null,
      "outputs": []
    },
    {
      "cell_type": "code",
      "metadata": {
        "id": "LXY7wmFf8cFA"
      },
      "source": [
        "# print(len(X_train)) \n",
        "# print(len(X_test))\n",
        "# print(len(Y_train))\n",
        "# print(len(Y_test))"
      ],
      "execution_count": null,
      "outputs": []
    },
    {
      "cell_type": "code",
      "metadata": {
        "id": "HYQdQ_Uj8eQd"
      },
      "source": [
        "from keras.preprocessing.text import Tokenizer\n",
        "from keras.preprocessing.sequence import pad_sequences"
      ],
      "execution_count": null,
      "outputs": []
    },
    {
      "cell_type": "code",
      "metadata": {
        "id": "UQ-NJtEO8gU-"
      },
      "source": [
        "#creating tokens\n",
        "def create_tokens(lines):\n",
        "    tokens = Tokenizer()        \n",
        "    tokens.fit_on_texts(lines)\n",
        "    return tokens"
      ],
      "execution_count": null,
      "outputs": []
    },
    {
      "cell_type": "code",
      "metadata": {
        "id": "jJaxUgfs8h2g"
      },
      "source": [
        "train_tokenizer = create_tokens(X_train)"
      ],
      "execution_count": null,
      "outputs": []
    },
    {
      "cell_type": "code",
      "metadata": {
        "id": "vSvwGoJQ8kCX"
      },
      "source": [
        "#encoding data and padding\n",
        "def encode_sentences(tokens,length,lines):   \n",
        "    X=tokens.texts_to_sequences(lines)\n",
        "    X=pad_sequences(X,length,padding='post')\n",
        "    return X"
      ],
      "execution_count": null,
      "outputs": []
    },
    {
      "cell_type": "code",
      "metadata": {
        "id": "bXvJ01ba8mUl"
      },
      "source": [
        "X_train = encode_sentences(train_tokenizer,100, X_train)\n",
        "X_test = encode_sentences(train_tokenizer,100, X_test)"
      ],
      "execution_count": null,
      "outputs": []
    },
    {
      "cell_type": "code",
      "metadata": {
        "colab": {
          "base_uri": "https://localhost:8080/"
        },
        "id": "UlicT8uK8ojb",
        "outputId": "3f04b7b6-c611-4cc9-f4da-a44000e221fd"
      },
      "source": [
        "\n",
        "print(X_train.shape)   \n",
        "print(X_test.shape)\n",
        "print(Y_train.shape)\n",
        "print(Y_test.shape)"
      ],
      "execution_count": null,
      "outputs": [
        {
          "output_type": "stream",
          "text": [
            "(2594, 100)\n",
            "(649, 100)\n",
            "(2594,)\n",
            "(649,)\n"
          ],
          "name": "stdout"
        }
      ]
    },
    {
      "cell_type": "code",
      "metadata": {
        "colab": {
          "base_uri": "https://localhost:8080/"
        },
        "id": "vS0A51hO8qX2",
        "outputId": "7bf8ce71-19ff-4a1c-d184-c6bc585997d5"
      },
      "source": [
        "vocab_len= len(train_tokenizer.word_index ) + 1 \n",
        "vocab_len   "
      ],
      "execution_count": null,
      "outputs": [
        {
          "output_type": "execute_result",
          "data": {
            "text/plain": [
              "847"
            ]
          },
          "metadata": {
            "tags": []
          },
          "execution_count": 17
        }
      ]
    },
    {
      "cell_type": "code",
      "metadata": {
        "id": "pdHldIKx9ZhV"
      },
      "source": [
        "#reading glove embedding \n",
        "embeddings = dict()                                 \n",
        "f = open('/content/drive/MyDrive/glove/glove.6B.100d.txt',encoding='utf8')\n",
        "for line in f:\n",
        "    values = line.split()\n",
        "    word = values[0]\n",
        "    vectors = np.asarray(values[1:],dtype='float32')\n",
        "    embeddings[word]=vectors\n",
        "f.close()"
      ],
      "execution_count": null,
      "outputs": []
    },
    {
      "cell_type": "code",
      "metadata": {
        "id": "SavOH2rF9dCq"
      },
      "source": [
        "embedding_matrix = np.zeros((vocab_len, 100))      ###create a matrix consist of words and its vectors\n",
        "for word, i in train_tokenizer.word_index.items():\n",
        "    embedding_vector = embeddings.get(word)\n",
        "    if embedding_vector is not None:\n",
        "        embedding_matrix[i] = embedding_vector"
      ],
      "execution_count": null,
      "outputs": []
    },
    {
      "cell_type": "code",
      "metadata": {
        "id": "JLGS0JTW-Et0"
      },
      "source": [
        "#CNN-LSTM model\n",
        "model = Sequential()\n",
        "embed = Embedding(vocab_len, 100, input_length= 100, weights = [embedding_matrix], trainable= False)\n",
        "model.add(embed)\n",
        "model.add(Conv1D(filters=128,kernel_size=5,activation='relu',strides= 1))\n",
        "model.add(MaxPooling1D(pool_size=4))\n",
        "model.add(Bidirectional(LSTM(10)))\n",
        "model.add(Dropout(0.4))\n",
        "model.add(Dense(units = 1, activation = 'sigmoid'))\n",
        "model.compile(optimizer='Adam', loss = 'binary_crossentropy', metrics = ['accuracy'])"
      ],
      "execution_count": null,
      "outputs": []
    },
    {
      "cell_type": "code",
      "metadata": {
        "colab": {
          "base_uri": "https://localhost:8080/"
        },
        "id": "dZxcw4LzgAtH",
        "outputId": "bf06dc2c-30e5-420d-ef03-23eb84ef2851"
      },
      "source": [
        "model.summary()"
      ],
      "execution_count": null,
      "outputs": [
        {
          "output_type": "stream",
          "text": [
            "Model: \"sequential\"\n",
            "_________________________________________________________________\n",
            "Layer (type)                 Output Shape              Param #   \n",
            "=================================================================\n",
            "embedding (Embedding)        (None, 100, 100)          84700     \n",
            "_________________________________________________________________\n",
            "conv1d (Conv1D)              (None, 96, 128)           64128     \n",
            "_________________________________________________________________\n",
            "max_pooling1d (MaxPooling1D) (None, 24, 128)           0         \n",
            "_________________________________________________________________\n",
            "bidirectional (Bidirectional (None, 20)                11120     \n",
            "_________________________________________________________________\n",
            "dropout (Dropout)            (None, 20)                0         \n",
            "_________________________________________________________________\n",
            "dense (Dense)                (None, 1)                 21        \n",
            "=================================================================\n",
            "Total params: 159,969\n",
            "Trainable params: 75,269\n",
            "Non-trainable params: 84,700\n",
            "_________________________________________________________________\n"
          ],
          "name": "stdout"
        }
      ]
    },
    {
      "cell_type": "code",
      "metadata": {
        "id": "Dyv5gY8K-LiK"
      },
      "source": [
        "cnn_lstm_pretrained_history=model.fit(X_train, Y_train, epochs = 25, batch_size = 128, verbose = 1, validation_split = 0.1)"
      ],
      "execution_count": null,
      "outputs": []
    },
    {
      "cell_type": "code",
      "metadata": {
        "colab": {
          "base_uri": "https://localhost:8080/"
        },
        "id": "mGXuo-Ed-NXg",
        "outputId": "db3f6426-f5f2-4282-a769-f80a513d5cca"
      },
      "source": [
        "\n",
        "score = model.evaluate(X_test,Y_test,verbose = 1)\n",
        "score[1]"
      ],
      "execution_count": null,
      "outputs": [
        {
          "output_type": "stream",
          "text": [
            "21/21 [==============================] - 0s 13ms/step - loss: 0.4826 - accuracy: 0.8552\n"
          ],
          "name": "stdout"
        },
        {
          "output_type": "execute_result",
          "data": {
            "text/plain": [
              "0.8551617860794067"
            ]
          },
          "metadata": {
            "tags": []
          },
          "execution_count": 41
        }
      ]
    },
    {
      "cell_type": "code",
      "metadata": {
        "colab": {
          "base_uri": "https://localhost:8080/",
          "height": 295
        },
        "id": "Qr6WaBOu-PnO",
        "outputId": "414c9ed3-5f0c-4ed3-8c7f-a68936ee9a8b"
      },
      "source": [
        "\n",
        "import matplotlib.pyplot as plt                             ###plot loss on train and val data\n",
        "plt.plot(cnn_lstm_pretrained_history.history['loss'])\n",
        "plt.plot(cnn_lstm_pretrained_history.history['val_loss'])\n",
        "plt.title('Model Loss Plot')\n",
        "plt.xlabel('Epochs')\n",
        "plt.ylabel('Loss')\n",
        "plt.legend(['Train', 'Test'])\n",
        "plt.show()"
      ],
      "execution_count": null,
      "outputs": [
        {
          "output_type": "display_data",
          "data": {
            "image/png": "[encoded data removed]",
            "text/plain": [
              "<Figure size 432x288 with 1 Axes>"
            ]
          },
          "metadata": {
            "tags": [],
            "needs_background": "light"
          }
        }
      ]
    },
    {
      "cell_type": "code",
      "metadata": {
        "id": "TtJnxvTx-RQm"
      },
      "source": [
        "Y_pred = model.predict(X_test)"
      ],
      "execution_count": null,
      "outputs": []
    }
  ]
}